{
 "cells": [
  {
   "cell_type": "code",
   "execution_count": 1,
   "metadata": {},
   "outputs": [],
   "source": [
    "import cv2"
   ]
  },
  {
   "cell_type": "code",
   "execution_count": 2,
   "metadata": {},
   "outputs": [],
   "source": [
    "img = cv2.imread(\"img/paper.jpeg\")"
   ]
  },
  {
   "cell_type": "code",
   "execution_count": 3,
   "metadata": {},
   "outputs": [],
   "source": [
    "#Converting image to LAB Color so CLAHE can be applied to the luminance channel\n",
    "lab_img= cv2.cvtColor(img, cv2.COLOR_BGR2LAB)"
   ]
  },
  {
   "cell_type": "code",
   "execution_count": 4,
   "metadata": {},
   "outputs": [],
   "source": [
    "#Splitting the LAB image to L, A and B channels, respectively\n",
    "l, a, b = cv2.split(lab_img)"
   ]
  },
  {
   "cell_type": "code",
   "execution_count": 5,
   "metadata": {},
   "outputs": [],
   "source": [
    "#plt.hist(l.flat, bins=100, range=(0,255))\n",
    "###########Histogram Equlization#############\n",
    "#Apply histogram equalization to the L channel\n",
    "equ = cv2.equalizeHist(l)"
   ]
  },
  {
   "cell_type": "code",
   "execution_count": 6,
   "metadata": {},
   "outputs": [],
   "source": [
    "#plt.hist(equ.flat, bins=100, range=(0,255))\n",
    "#Combine the Hist. equalized L-channel back with A and B channels\n",
    "updated_lab_img1 = cv2.merge((equ,a,b))"
   ]
  },
  {
   "cell_type": "code",
   "execution_count": 7,
   "metadata": {},
   "outputs": [],
   "source": [
    "\n",
    "#Convert LAB image back to color (RGB)\n",
    "hist_eq_img = cv2.cvtColor(updated_lab_img1, cv2.COLOR_LAB2BGR)"
   ]
  },
  {
   "cell_type": "code",
   "execution_count": 8,
   "metadata": {},
   "outputs": [],
   "source": [
    "#Apply CLAHE to L channel\n",
    "clahe = cv2.createCLAHE(clipLimit=3.0, tileGridSize=(8,8))\n",
    "clahe_img = clahe.apply(l)"
   ]
  },
  {
   "cell_type": "code",
   "execution_count": 9,
   "metadata": {},
   "outputs": [],
   "source": [
    "\n",
    "#Combine the CLAHE enhanced L-channel back with A and B channels\n",
    "updated_lab_img2 = cv2.merge((clahe_img,a,b))\n",
    "\n",
    "#Convert LAB image back to color (RGB)\n",
    "CLAHE_img = cv2.cvtColor(updated_lab_img2, cv2.COLOR_LAB2BGR)\n"
   ]
  },
  {
   "cell_type": "code",
   "execution_count": 20,
   "metadata": {},
   "outputs": [],
   "source": [
    "# cv2.imshow(\"Original image\", img)\n",
    "# cv2.imshow(\"Equalized image\", hist_eq_img)\n",
    "# cv2.imshow('CLAHE Image', CLAHE_img)\n",
    "# cv2.waitKey(0)\n",
    "# cv2.destroyAllWindows() \n",
    "\n",
    "\n",
    "\n",
    "cv2.namedWindow(\"ORIGINAL\", cv2.WINDOW_NORMAL)\n",
    "cv2.imshow(\"ORIGINAL\", img)\n",
    "cv2.moveWindow(\"ORIGINAL\", 0, 0)\n",
    "cv2.resizeWindow(\"ORIGINAL\", 300, 400)\n",
    "cv2.waitKey(10)\n",
    "\n",
    "cv2.namedWindow(\"EQUALIZED\", cv2.WINDOW_NORMAL)\n",
    "cv2.imshow(\"EQUALIZED\", hist_eq_img)\n",
    "cv2.moveWindow(\"EQUALIZED\", 600, 0)\n",
    "cv2.resizeWindow(\"EQUALIZED\", 300, 400)\n",
    "cv2.waitKey(10)\n",
    "\n",
    "\n",
    "cv2.namedWindow(\"CLAHE\", cv2.WINDOW_NORMAL)\n",
    "cv2.imshow(\"CLAHE\", CLAHE_img)\n",
    "cv2.moveWindow(\"CLAHE\", 900, 0)\n",
    "cv2.resizeWindow(\"CLAHE\", 300, 400)\n",
    "cv2.waitKey(10)\n",
    "\n",
    "\n",
    "cv2.destroyAllWindows()"
   ]
  }
 ],
 "metadata": {
  "kernelspec": {
   "display_name": "Python 3.10.4 ('scanner')",
   "language": "python",
   "name": "python3"
  },
  "language_info": {
   "codemirror_mode": {
    "name": "ipython",
    "version": 3
   },
   "file_extension": ".py",
   "mimetype": "text/x-python",
   "name": "python",
   "nbconvert_exporter": "python",
   "pygments_lexer": "ipython3",
   "version": "3.10.4"
  },
  "orig_nbformat": 4,
  "vscode": {
   "interpreter": {
    "hash": "489122fc7bb5d6816f8d543671f3551350096832bab9acc5add7d3bb06b4362e"
   }
  }
 },
 "nbformat": 4,
 "nbformat_minor": 2
}
