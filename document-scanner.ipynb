{
 "cells": [
  {
   "cell_type": "code",
   "execution_count": 338,
   "metadata": {},
   "outputs": [],
   "source": [
    "import cv2\n",
    "import imutils\n",
    "from skimage.filters import threshold_local\n",
    "# from pyimagesearch.transform import four_point_transform\n",
    "import numpy as np\n",
    "import random as rng\n",
    "from math import sqrt\n",
    "from matplotlib import pyplot as plt"
   ]
  },
  {
   "cell_type": "code",
   "execution_count": 339,
   "metadata": {},
   "outputs": [],
   "source": [
    "rng.seed(12345)\n",
    "\n",
    "# read and show the input image\n",
    "img_path = 'document-2.png'\n",
    "img = cv2.imread(img_path)\n"
   ]
  },
  {
   "cell_type": "code",
   "execution_count": 340,
   "metadata": {},
   "outputs": [],
   "source": [
    "ratio = img.shape[0] / 500.0 # find the ratio\n",
    "input_img = imutils.resize(img, height = 500) # resize the image to 500 \n"
   ]
  },
  {
   "cell_type": "code",
   "execution_count": 341,
   "metadata": {},
   "outputs": [],
   "source": [
    "def get_line_coefficients(p1: tuple, p2: tuple):\n",
    "  x1, y1 = p1\n",
    "  x2, y2 = p2\n",
    "\n",
    "  a = y1 - y2\n",
    "  b = x2 - x1\n",
    "  c = x1*y2 - x2*y1\n",
    "\n",
    "  return (a,b,c)\n"
   ]
  },
  {
   "cell_type": "code",
   "execution_count": 342,
   "metadata": {},
   "outputs": [],
   "source": [
    "def get_intersection_points(coeff_1: tuple, coeff_2: tuple):\n",
    "  a1, b1, c1 = coeff_1\n",
    "  a2, b2, c2 = coeff_2\n",
    "\n",
    "  x = 0 \n",
    "  y = 0\n",
    "\n",
    "  det = a1 * b2 - a2 * b1\n",
    "\n",
    "  x_num = b1 * c2 - b2 * c1\n",
    "\n",
    "  y_num = c1 * a2 - c2 * a1\n",
    "\n",
    "  # lines are approximately parallel \n",
    "  if det > -0.5 and det < 0.5:\n",
    "    return None\n",
    "  \n",
    "\n",
    "  if det != 0:\n",
    "    x = x_num / det\n",
    "    y = y_num / det\n",
    "    return (x, y)\n",
    "  \n",
    "  return None\n"
   ]
  },
  {
   "cell_type": "code",
   "execution_count": 343,
   "metadata": {},
   "outputs": [],
   "source": [
    "def distance_between_points(p1: tuple, p2: tuple):\n",
    "  x1, y1 = p1\n",
    "  x2, y2, = p2\n",
    "  distance = sqrt((x2 - x1)**2 + (y2 - y1)**2)\n",
    "  return distance"
   ]
  },
  {
   "cell_type": "code",
   "execution_count": 344,
   "metadata": {},
   "outputs": [],
   "source": [
    "def are_similar_corners(c1: tuple, c2: tuple): \n",
    "  return True if distance_between_points(c1, c2) < 3 else False\n"
   ]
  },
  {
   "cell_type": "code",
   "execution_count": 345,
   "metadata": {},
   "outputs": [],
   "source": [
    "def remove_similar_corners(all_corners):\n",
    "  corners = []\n",
    "  # get one corner\n",
    "  for i in range(len(all_corners)): \n",
    "    # check with all other corners\n",
    "    similar_corner = False\n",
    "    for j in range(len(all_corners)): \n",
    "      # if we have checked all corners upto this one then break\n",
    "      if i == j:\n",
    "        break\n",
    "      # if corner is similar to any of the previous corners then we do not add this corner\n",
    "      if are_similar_corners(all_corners[i], all_corners[j]): \n",
    "        similar_corner = True\n",
    "        break\n",
    "    if not similar_corner:\n",
    "      corners.append(all_corners[i])\n",
    "      \n",
    "  return corners"
   ]
  },
  {
   "cell_type": "code",
   "execution_count": 346,
   "metadata": {},
   "outputs": [],
   "source": [
    "def get_all_possible_corners(coefficients, row_size, col_size): \n",
    "  all_corners = []\n",
    "\n",
    "  # for every combination of coeffs get the intersection points\n",
    "  for i in range(len(coefficients)):\n",
    "    for j in range(i, len(coefficients)):\n",
    "      if(i != j): \n",
    "      \n",
    "        int_point = get_intersection_points(coefficients[i], coefficients[j])\n",
    "        if int_point != None: \n",
    "          x, y = int_point\n",
    "          # coords should be within the image boundaries\n",
    "          if x > 0 and y > 0 and x < col_size and y < row_size:\n",
    "            all_corners.append(int_point)\n",
    "            \n",
    "  return all_corners"
   ]
  },
  {
   "cell_type": "code",
   "execution_count": 347,
   "metadata": {},
   "outputs": [],
   "source": [
    "def sort_contours(elem):\n",
    "    return cv2.arcLength(elem, closed=True)\n",
    "    \n",
    "def get_corners(grayscale: cv2.Mat, output: cv2.Mat):\n",
    "  convex_hull_mask = np.zeros((grayscale.shape[0], grayscale.shape[1], 3), dtype=np.uint8)\n",
    "\n",
    "\n",
    "  convex_hull_mask_grayscale = cv2.cvtColor(convex_hull_mask, cv2.COLOR_BGR2GRAY)\n",
    "\n",
    "  # Find contours\n",
    "  contours, _ = cv2.findContours(grayscale, cv2.RETR_EXTERNAL, cv2.CHAIN_APPROX_NONE)\n",
    "\n",
    "  # get the largest contour by sorting the contours wrt arcLength\n",
    "  contours = sorted(contours, key=sort_contours, reverse=True)[:1]\n",
    "\n",
    "  # convex hull object\n",
    "  hull_list = []\n",
    "  hull = cv2.convexHull(contours[-1], True)\n",
    "  hull_list.append(hull)\n",
    "\n",
    "  cv2.drawContours(convex_hull_mask_grayscale, hull_list, -1, (255,0,0), 2, 8)\n",
    "\n",
    "  cv2.imshow('Convex Hull Mask', convex_hull_mask_grayscale)\n",
    "  cv2.waitKey(10)\n",
    "\n",
    "  # # rho: The resolution parameter rho in pixels.\n",
    "  # # theta: The resolution of the parameter \\theta in radians.\n",
    "  # # threshold: The minimum number of intersecting points to detecta line.\n",
    "\n",
    "  lines = cv2.HoughLinesP(image = convex_hull_mask_grayscale, rho = 2, theta = np.pi / 200, minLineLength=200, maxLineGap=0, threshold=40)\n",
    "\n",
    "  # draw all houghlines\n",
    "  if lines is not None:\n",
    "    for line in lines:\n",
    "      l = line[0]\n",
    "      cv2.line(output, (l[0], l[1]), (l[2], l[3]), (0,255,0), 2, cv2.LINE_AA )\n",
    "  \n",
    "  # if at any point there are at least four lines then find the corners\n",
    "  if len(lines) >= 4:\n",
    "    coefficients = []\n",
    "    for line in lines:\n",
    "      l = line[0]\n",
    "      coefficients.append(get_line_coefficients((l[0], l[1]), (l[2], l[3])))\n",
    "  \n",
    "\n",
    "    rows, cols = grayscale.shape\n",
    "\n",
    "    # get all the corners from lines\n",
    "    all_corners = get_all_possible_corners(coefficients, rows, cols)\n",
    "\n",
    "    # remove corners that are similar to one corner\n",
    "    corners = remove_similar_corners(all_corners)\n",
    "    \n",
    "    if len(corners) != 4:\n",
    "      print(\"corner length not equal to 4\")\n",
    "      return\n",
    "    \n",
    "    print(\"FINAL CORNERS: \", corners)\n",
    "\n",
    "\n",
    "    # draw corner points on the image\n",
    "    for x, y in corners:\n",
    "      cv2.circle(output, (int(x), int(y)),3, (0, 0, 255), 4)\n",
    "\n",
    "    \n",
    "  cv2.imshow('Corners', output)\n",
    "  cv2.waitKey(10)\n",
    "\n",
    "  \n",
    "\n"
   ]
  },
  {
   "cell_type": "code",
   "execution_count": 348,
   "metadata": {},
   "outputs": [
    {
     "name": "stdout",
     "output_type": "stream",
     "text": [
      "FINAL CORNERS:  [(11.0, 33.077922077922075), (11.0, 497.0), (357.1346747999683, 28.58266656103937), (342.8536585365854, 497.0)]\n"
     ]
    }
   ],
   "source": [
    "# Convert image to gray and blur it\n",
    "input_grey = cv2.cvtColor(input_img, cv2.COLOR_BGR2GRAY)\n",
    "input_grey = cv2.GaussianBlur(input_grey, (3,3), 0)\n",
    "ret, input_grey = cv2.threshold(input_grey, 130, 200, cv2.THRESH_BINARY)\n",
    "\n",
    "img_copy = input_img.copy()\n",
    "\n",
    "edges = cv2.Canny(input_grey, 83, 300)\n",
    "\n",
    "cv2.imshow('Canny', edges)\n",
    "cv2.waitKey(10)\n",
    "\n",
    "corners = get_corners(edges, input_img)\n",
    "\n"
   ]
  },
  {
   "cell_type": "code",
   "execution_count": null,
   "metadata": {},
   "outputs": [],
   "source": [
    "def order_points(pts):\n",
    "    # initialzie a list of coordinates that will be ordered\n",
    "    # such that the first entry in the list is the top-left,\n",
    "    # the second entry is the top-right, the third is the\n",
    "    # bottom-right, and the fourth is the bottom-left\n",
    "    rect = np.zeros((4, 2), dtype = \"float32\")\n",
    "\n",
    "    # the top-left point will have the smallest sum, whereas\n",
    "    # the bottom-right point will have the largest sum\n",
    "    s = pts.sum(axis = 1)\n",
    "    rect[0] = pts[np.argmin(s)]\n",
    "    rect[2] = pts[np.argmax(s)]\n",
    "\n",
    "    # now, compute the difference between the points, the\n",
    "    # top-right point will have the smallest difference,\n",
    "    # whereas the bottom-left will have the largest difference\n",
    "    diff = np.diff(pts, axis = 1)\n",
    "    rect[1] = pts[np.argmin(diff)]\n",
    "    rect[3] = pts[np.argmax(diff)]\n",
    "\n",
    "    # return the ordered coordinates\n",
    "    return rect\n",
    "\n",
    "def four_point_transform(image, pts):\n",
    "    # obtain a consistent order of the points and unpack them\n",
    "    # individually\n",
    "    rect = order_points(pts)\n",
    "    (tl, tr, br, bl) = rect\n",
    "\n",
    "    # compute the width of the new image, which will be the\n",
    "    # maximum distance between bottom-right and bottom-left\n",
    "    # x-coordiates or the top-right and top-left x-coordinates\n",
    "    widthA = np.sqrt(((br[0] - bl[0]) ** 2) + ((br[1] - bl[1]) ** 2))\n",
    "    widthB = np.sqrt(((tr[0] - tl[0]) ** 2) + ((tr[1] - tl[1]) ** 2))\n",
    "    maxWidth = max(int(widthA), int(widthB))\n",
    "\n",
    "    # compute the height of the new image, which will be the\n",
    "    # maximum distance between the top-right and bottom-right\n",
    "    # y-coordinates or the top-left and bottom-left y-coordinates\n",
    "    heightA = np.sqrt(((tr[0] - br[0]) ** 2) + ((tr[1] - br[1]) ** 2))\n",
    "    heightB = np.sqrt(((tl[0] - bl[0]) ** 2) + ((tl[1] - bl[1]) ** 2))\n",
    "    maxHeight = max(int(heightA), int(heightB))\n",
    "\n",
    "    # now that we have the dimensions of the new image, construct\n",
    "    # the set of destination points to obtain a \"birds eye view\",\n",
    "    # (i.e. top-down view) of the image, again specifying points\n",
    "    # in the top-left, top-right, bottom-right, and bottom-left\n",
    "    # order\n",
    "    dst = np.array([\n",
    "        [0, 0],\n",
    "        [maxWidth - 1, 0],\n",
    "        [maxWidth - 1, maxHeight - 1],\n",
    "        [0, maxHeight - 1]], dtype = \"float32\")\n",
    "\n",
    "    # compute the perspective transform matrix and then apply it\n",
    "    M = cv2.getPerspectiveTransform(rect, dst)\n",
    "    warped = cv2.warpPerspective(image, M, (maxWidth, maxHeight))\n",
    "\n",
    "    # return the warped image\n",
    "    return warped"
   ]
  },
  {
   "cell_type": "code",
   "execution_count": null,
   "metadata": {},
   "outputs": [],
   "source": [
    "# apply four point transform to extract the document rectangle\n",
    "warped = four_point_transform(org, doc.reshape(4, 2) * ratio)\n",
    "warped = cv2.cvtColor(warped, cv2.COLOR_BGR2GRAY)\n",
    "cv2.imshow(\"Warped\", imutils.resize(warped, height = 650))\n",
    "cv2.waitKey(0)"
   ]
  },
  {
   "cell_type": "code",
   "execution_count": null,
   "metadata": {},
   "outputs": [],
   "source": [
    "# give a black and white feel to the image\n",
    "T = threshold_local(warped, 11, offset = 10, method = \"gaussian\")\n",
    "warped = (warped > T).astype(\"uint8\") * 255\n",
    "cv2.imshow(\"Scanned\", imutils.resize(warped, height = 650))\n",
    "cv2.waitKey(0)\n",
    "cv2.destroyAllWindows()"
   ]
  }
 ],
 "metadata": {
  "kernelspec": {
   "display_name": "Python 3.10.4 ('scanner')",
   "language": "python",
   "name": "python3"
  },
  "language_info": {
   "codemirror_mode": {
    "name": "ipython",
    "version": 3
   },
   "file_extension": ".py",
   "mimetype": "text/x-python",
   "name": "python",
   "nbconvert_exporter": "python",
   "pygments_lexer": "ipython3",
   "version": "3.10.4"
  },
  "vscode": {
   "interpreter": {
    "hash": "489122fc7bb5d6816f8d543671f3551350096832bab9acc5add7d3bb06b4362e"
   }
  }
 },
 "nbformat": 4,
 "nbformat_minor": 2
}
